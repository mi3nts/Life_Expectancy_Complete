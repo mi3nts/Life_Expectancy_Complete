{
 "cells": [
  {
   "cell_type": "markdown",
   "id": "8edd0ac8-99f2-4092-99c9-535621002334",
   "metadata": {},
   "source": [
    "## This notebook renames the variable names of the CAMS variables and combines data with the life expectancy data."
   ]
  },
  {
   "cell_type": "code",
   "execution_count": 1,
   "id": "2298b89c-67ad-4250-90c7-280368a28ce5",
   "metadata": {},
   "outputs": [],
   "source": [
    "import pandas as pd\n",
    "import os\n",
    "pd.set_option('display.max_columns', None)\n",
    "pd.options.display.float_format = '{:.15f}'.format ## see 15 decimal places of the numbers"
   ]
  },
  {
   "cell_type": "code",
   "execution_count": 2,
   "id": "f51a2204-f0a8-4b88-a972-17eb3cc366da",
   "metadata": {},
   "outputs": [],
   "source": [
    "## rename name of variables for the year 2003 to 2019\n",
    "\n",
    "for i in range (2003, 2020):\n",
    "    year=str(i)\n",
    "    PATH_1=os.path.join('CAMS_data','CAMS_79_variables_'+ year +'.pkl')\n",
    "    df1=pd.read_pickle(PATH_1)\n",
    "    df1 = df1.rename(columns=\n",
    "        {'u10': '10m u-component of wind', 'v10': '10m v-componend of wind', 'd2m':'2m dew point temperature',  \n",
    "          't2m':'2m temperature', 'bcaod550':'Black carbon AOD at 550 nm','duaod550':'Dust AOD at 550 nm',                                                  \n",
    "          'lsm':'Land-sea mask', 'msl':'Mean sea level pressure', 'omaod550':'Organic matter AOD at 550 nm',\n",
    "          'pm1':'PM$_1$', 'pm2p5':'PM$_{2.5}$', 'pm10':'PM$_{10}$', 'ssaod550':'Sea salt AOD at 550 nm',\n",
    "          'suaod550':'Sulphate AOD at 550 nm', 'z':'Surface geopotential', 'sp':'Surface pressure',  \n",
    "          'aod469':'Total AOD at 469 nm', 'aod550':'Total AOD at 550 nm', 'aod670':'Total AOD at 670 nm',\n",
    "          'aod865':'Total AOD at 865 nm', 'aod1240': 'Total AOD at 1240 nm', 'tcco':'Total column carbon monoxide',\n",
    "          'tc_c2h6':'Total column ethane', 'tchcho':'Total column formaldehyde', 'tc_h2o2':'Total column hydrogen peroxide',\n",
    "          'tc_oh':'Total column hydroxyl radical', 'tc_c5h8':'Total column isoprene', 'tc_ch4':'Total column methane',\n",
    "          'tc_hno3':'Total column nitric acid', 'tcno2':'Total column nitrogen dioxide', 'tc_no':'Total column nitrogen monoxide',\n",
    "          'gtco3':'Total column ozone', 'tc_pan':'Total column peroxyacetyl nitrate','tc_c3h8':'Total column propane',\n",
    "          'tcso2':'Total column sulphur dioxide', 'tcwv':'Total column water vapour', 'co':'Carbon monoxide',\n",
    "          'aermr04':'Dust aerosol (0.03-0.55 \\u00B5m) mixing ratio', 'aermr05':'Dust aerosol (0.55-0.9 \\u00B5m) mixing ratio',\n",
    "          'aermr06':'Dust aerosol (0.9-20 \\u00B5m) mixing ratio', 'c2h6':'Ethane', 'hcho':'Formaldehyde',\n",
    "          'h2o2':'Hydrogen peroxide', 'aermr09':'Hydrophilic black carbon aerosol mixing ratio', \n",
    "          'aermr07':'Hydrophilic organic matter aerosol mixing ratio', \n",
    "          'aermr10':'Hydrophobic black carbon aerosol mixing ratio',\n",
    "          'aermr08':'Hydrophobic organic matter aerosol mixing ratio', 'oh':'Hydroxyl radical',\n",
    "          'c5h8':'Isoprene', 'hno3':'Nitric acid', 'no2':'Nitrogen dioxide', 'no':'Nitrogen monoxide', 'go3':'Ozone',\n",
    "          'pan':'Peroxyacetyl nitrate', 'c3h8':'Propane', 'aermr01':'Sea salt aerosol (0.03-0.5 \\u00B5m) mixing ratio',\n",
    "          'aermr02':'Sea salt aerosol (0.5-5 \\u00B5m) mixing ratio', 'aermr03':'Sea salt aerosol (5-20 \\u00B5m) mixing ratio',\n",
    "          'q':'Specific humidity', 'aermr11':'Sulphate aerosol mixing ratio', 'so2':'Sulphur dioxide',\n",
    "          't':'Temperature', 'lai_hv':'Leaf area index, high vegetation', 'lai_lv':'Leaf area index, low vegetation',\n",
    "          'asn':'Snow albedo', 'sd':'Snow depth', 'tcw':'Total column water',\n",
    "          'aermssdus':'Vertically integrated mass of dust aerosol (0.03-0.55 \\u00B5m)',\n",
    "         'aermssdum':'Vertically integrated mass of dust aerosol (0.55-9 \\u00B5m)',\n",
    "         'aermssdul':'Vertically integrated mass of dust aerosol (9-20 \\u00B5m)',\n",
    "         'aermssbchphil':'Vertically integrated mass of hydrophilic black carbon aerosol',\n",
    "         'aermssomhphil':'Vertically integrated mass of hydrophilic organic matter aerosol',\n",
    "         'aermssbchphob':'Vertically integrated mass of hydrophobic black carbon aerosol',\n",
    "         'aermssomhphob':'Vertically integrated mass of hydrophobic organic matter aerosol',\n",
    "         'aermsssss':'Vertically integrated mass of sea salt aerosol (0.03-0.5 \\u00B5m)',\n",
    "         'aermssssm':'Vertically integrated mass of sea salt aerosol (0.5-5 \\u00B5m)',\n",
    "         'aermssssl':'Vertically integrated mass of sea salt aerosol (5-20 \\u00B5m)',\n",
    "         'aermsssu':'Vertically integrated mass of sulphate aerosol',\n",
    "         'aermssso2':'Vertically integrated mass of sulphur dioxide',         \n",
    "        })\n",
    "    df1.to_pickle('combined_data/'+ year +'.pkl')"
   ]
  },
  {
   "cell_type": "code",
   "execution_count": null,
   "id": "cc873d80-a24d-43d7-a6c1-a657be680e4b",
   "metadata": {},
   "outputs": [],
   "source": []
  }
 ],
 "metadata": {
  "kernelspec": {
   "display_name": "Python 3 (ipykernel)",
   "language": "python",
   "name": "python3"
  },
  "language_info": {
   "codemirror_mode": {
    "name": "ipython",
    "version": 3
   },
   "file_extension": ".py",
   "mimetype": "text/x-python",
   "name": "python",
   "nbconvert_exporter": "python",
   "pygments_lexer": "ipython3",
   "version": "3.10.15"
  }
 },
 "nbformat": 4,
 "nbformat_minor": 5
}
