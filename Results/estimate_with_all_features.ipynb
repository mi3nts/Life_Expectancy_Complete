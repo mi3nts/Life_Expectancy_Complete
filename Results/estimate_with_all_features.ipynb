{
 "cells": [
  {
   "cell_type": "markdown",
   "id": "40c4ee58-e729-47f4-b9ce-6771e846bc2d",
   "metadata": {},
   "source": [
    "## This notebook estimates life expectancy using all variables from CAMS and from ERA5 using life expectancy data from 2003 to 2019.\n"
   ]
  },
  {
   "cell_type": "code",
   "execution_count": 1,
   "id": "852d71b7-790f-40b5-b0c9-1e26508baec9",
   "metadata": {},
   "outputs": [],
   "source": [
    "#### conda env Weather_Prediction\n",
    "\n",
    "import pandas as pd\n",
    "import statsmodels.api as sm\n",
    "import matplotlib.pyplot as plt\n",
    "import numpy as np\n",
    "import seaborn as sns\n",
    "from scipy.stats import pearsonr\n",
    "\n",
    "from sklearn.model_selection import train_test_split\n",
    "from sklearn.preprocessing import StandardScaler \n",
    "from sklearn.metrics import mean_squared_error\n",
    "from sklearn.model_selection import GridSearchCV\n",
    "from sklearn.ensemble import RandomForestRegressor\n",
    "from sklearn.model_selection import cross_val_score\n",
    "from sklearn.inspection import permutation_importance\n",
    "from sklearn.metrics import mean_squared_error\n",
    "\n",
    "import shap\n",
    "import os\n",
    "import geopandas as gpd\n",
    "\n",
    "pd.set_option('display.precision', 15)\n",
    "pd.set_option('display.max_columns', None)"
   ]
  },
  {
   "cell_type": "code",
   "execution_count": null,
   "id": "3fe2d88c-e829-47ee-9cf5-b86eb08d42c1",
   "metadata": {},
   "outputs": [],
   "source": []
  }
 ],
 "metadata": {
  "kernelspec": {
   "display_name": "Python 3 (ipykernel)",
   "language": "python",
   "name": "python3"
  },
  "language_info": {
   "codemirror_mode": {
    "name": "ipython",
    "version": 3
   },
   "file_extension": ".py",
   "mimetype": "text/x-python",
   "name": "python",
   "nbconvert_exporter": "python",
   "pygments_lexer": "ipython3",
   "version": "3.10.15"
  }
 },
 "nbformat": 4,
 "nbformat_minor": 5
}
