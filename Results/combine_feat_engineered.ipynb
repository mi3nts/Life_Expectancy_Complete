{
 "cells": [
  {
   "cell_type": "markdown",
   "id": "e2f87b96-4e08-42ca-80da-10728321a44e",
   "metadata": {},
   "source": [
    "## Notebook to combine all feature engineered data"
   ]
  },
  {
   "cell_type": "code",
   "execution_count": 1,
   "id": "ac3344b6-c681-4a6a-a3fa-ba3a297c4056",
   "metadata": {},
   "outputs": [],
   "source": [
    "import pandas as pd\n",
    "import os\n",
    "pd.set_option('display.max_columns', None)\n",
    "pd.options.display.float_format = '{:.15f}'.format ## see 15 decimal places of the numbers\n",
    "from functools import reduce"
   ]
  },
  {
   "cell_type": "code",
   "execution_count": 2,
   "id": "a83068d7-7dbc-4bc3-a48e-9a1207beedb7",
   "metadata": {},
   "outputs": [],
   "source": [
    "for i in range (2003, 2020):\n",
    "    \n",
    "    year=str(i)\n",
    "    \n",
    "    PATH_1=os.path.join('..','all_years','CAMS', year ,'feature_engineering')\n",
    "\n",
    "    # list all the pkl files in the folder\n",
    "    pkl_files = [file for file in os.listdir(PATH_1) if file.endswith('.pkl')]\n",
    "\n",
    "    ## read all the pickle files\n",
    "    dataframes = [pd.read_pickle(os.path.join(PATH_1, file)) for file in pkl_files]\n",
    "\n",
    "    ## remove the NAME columns from the dataframes. This step was necessary because, functools (below) didnt work\n",
    "    ## when dataframes had same columns\n",
    "\n",
    "    for j in range(len(dataframes)):\n",
    "        if \"NAME\" in dataframes[j].columns:\n",
    "            dataframes[j] = dataframes[j].drop(columns=\"NAME\")\n",
    "   \n",
    "    #from functools import reduce. merge all the datframes in the list on fips\n",
    "    df1=reduce(lambda x, y: pd.merge(x, y, on = 'fips'), dataframes)\n",
    "    df1\n",
    "\n",
    "    ## get the pm25 above threshold data which is on a different folder\n",
    "    PATH_2=os.path.join('..','all_years','CAMS', year, 'FE_PM25_'+ year +'.pkl')\n",
    "    df2=pd.read_pickle(PATH_2)\n",
    "    df2 = df2.drop('NAME', axis=1)\n",
    "    df2\n",
    "\n",
    "    final_df=df1.merge(df2,how='left', on='fips')\n",
    "    final_df['year']=int(i)\n",
    "    final_df\n",
    "    \n",
    "    ## save in the feature_engineered file\n",
    "    PATH_3='feature_engineered'\n",
    "    file=os.path.join(PATH_3, 'fe_'+ year +'.pkl')\n",
    "    final_df.to_pickle(file)\n"
   ]
  },
  {
   "cell_type": "code",
   "execution_count": null,
   "id": "b0288563-b7e7-4acf-a6b7-afa0aa04b65d",
   "metadata": {},
   "outputs": [],
   "source": []
  }
 ],
 "metadata": {
  "kernelspec": {
   "display_name": "Python 3 (ipykernel)",
   "language": "python",
   "name": "python3"
  },
  "language_info": {
   "codemirror_mode": {
    "name": "ipython",
    "version": 3
   },
   "file_extension": ".py",
   "mimetype": "text/x-python",
   "name": "python",
   "nbconvert_exporter": "python",
   "pygments_lexer": "ipython3",
   "version": "3.10.15"
  }
 },
 "nbformat": 4,
 "nbformat_minor": 5
}
