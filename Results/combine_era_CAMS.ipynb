{
 "cells": [
  {
   "cell_type": "markdown",
   "id": "6361915c-de4e-4991-8dbb-c5cebf54896d",
   "metadata": {},
   "source": [
    "#### This notebook combines the CAMS data with the ERA5 data and with the life expectancy data"
   ]
  },
  {
   "cell_type": "code",
   "execution_count": null,
   "id": "7f18b739-57b9-4cc7-b356-0fc5def30ccf",
   "metadata": {},
   "outputs": [],
   "source": []
  }
 ],
 "metadata": {
  "kernelspec": {
   "display_name": "Python 3 (ipykernel)",
   "language": "python",
   "name": "python3"
  },
  "language_info": {
   "codemirror_mode": {
    "name": "ipython",
    "version": 3
   },
   "file_extension": ".py",
   "mimetype": "text/x-python",
   "name": "python",
   "nbconvert_exporter": "python",
   "pygments_lexer": "ipython3",
   "version": "3.10.15"
  }
 },
 "nbformat": 4,
 "nbformat_minor": 5
}
