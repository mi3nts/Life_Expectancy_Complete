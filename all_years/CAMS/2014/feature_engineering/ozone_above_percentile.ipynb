{
 "cells": [
  {
   "cell_type": "markdown",
   "id": "98fee33c-6ce3-4619-8a74-7bb78b5ba885",
   "metadata": {},
   "source": [
    "#### Notebook to feature engineer fraction of time ozone was above 75th percentile"
   ]
  },
  {
   "cell_type": "code",
   "execution_count": null,
   "id": "e3c33c9e-0410-498e-840f-6922ac03015a",
   "metadata": {},
   "outputs": [],
   "source": [
    "## conda environment Weather_Prediction\n",
    "\n",
    "import os\n",
    "import numpy as np\n",
    "import pandas as pd\n",
    "import geopandas as gpd\n",
    "import xarray as xr\n",
    "pd.set_option('display.max_columns', None)\n",
    "pd.set_option('display.precision', 15)"
   ]
  },
  {
   "cell_type": "code",
   "execution_count": null,
   "id": "06b02de8-f1dd-4593-933f-30a92bb6b6fd",
   "metadata": {},
   "outputs": [],
   "source": [
    "PATH_1=os.path.join('..','..','..','..','Weather_Data','CAMS','2003','2003_multi_level_26_variables.nc')\n",
    "ml_26_variables = xr.open_dataset(PATH_1) ## multilevel 26 variables\n",
    "ml_26_variables = ml_26_variables.squeeze(dim=\"model_level\") ## remove the model_level dimension\n",
    "ml_26_variables=ml_26_variables.drop_vars('model_level') ## the dropped dimension becomes a column, so remove that\n",
    "ml_26_variables['longitude'] = ml_26_variables['longitude']-360 ## necessary because of longitude data in multi-level case\n",
    "ml_26_variables\n",
    "ozone=ml_26_variables['go3'] ## get only ozone variable\n",
    "ozone"
   ]
  },
  {
   "cell_type": "code",
   "execution_count": null,
   "id": "ff1c71a7-3d0a-4906-88c4-116375463517",
   "metadata": {},
   "outputs": [],
   "source": [
    "ozone.to_dataframe()"
   ]
  },
  {
   "cell_type": "code",
   "execution_count": null,
   "id": "6f731b85-59ae-4993-8420-8e2a537f3096",
   "metadata": {},
   "outputs": [],
   "source": [
    "PATH_2=os.path.join('..','CAMS_79_variables_2003.pkl')\n",
    "get_data = pd.read_pickle(PATH_2) ## load the data with all variables\n",
    "get_data.head()"
   ]
  },
  {
   "cell_type": "code",
   "execution_count": null,
   "id": "38e3f88e-e4d9-4aea-8c62-3b4327446f61",
   "metadata": {},
   "outputs": [],
   "source": [
    "percentile_75 = get_data['go3'].quantile(0.75) ## calculate 75th percentile\n",
    "print(percentile_75)\n",
    "threshold=percentile_75"
   ]
  },
  {
   "cell_type": "code",
   "execution_count": null,
   "id": "5d29b731-0400-495b-8973-305e7a27fecc",
   "metadata": {},
   "outputs": [],
   "source": [
    "## use county shapefile from 2008 as the shapefile before 2008 could not be found\n",
    "SHAPE_PATH=os.path.join('..','..','..','..','Shapefiles','county_shapefiles','2008_county_shapefile','tl_2008_us_county.shp')\n",
    "county_gdf = gpd.read_file(SHAPE_PATH)\n",
    "county_gdf"
   ]
  },
  {
   "cell_type": "code",
   "execution_count": null,
   "id": "f78b6bbb-f6bc-4f88-8e7c-62f4fd808510",
   "metadata": {},
   "outputs": [],
   "source": [
    "geometry_column=county_gdf['geometry']\n",
    "lat_lon=geometry_column.get_coordinates(index_parts=True)\n",
    "lat_lon"
   ]
  },
  {
   "cell_type": "code",
   "execution_count": null,
   "id": "4e2208e8-9d00-4703-a7f8-71aa23ab173a",
   "metadata": {},
   "outputs": [],
   "source": [
    "def single_county(var):\n",
    "    \n",
    "    ''' Function to interpolate the values in a single county by taking a 100 or less latitude and longitude pair.\n",
    "        And then to find the fraction of time above percentile\n",
    "        Args:\n",
    "        --------\n",
    "             var (int): The index of the county in the shapefile.\n",
    "\n",
    "        Returns:\n",
    "        --------\n",
    "            pm_above_df: Dataframe consisting the values of the variables interpolated in the county.\n",
    "    '''   \n",
    "    \n",
    "    \n",
    "    longitude= lat_lon.loc[(var), 'x']  # get the longitude\n",
    "    extract_val=len(longitude) ## find number of longitude that a shapfile has\n",
    "\n",
    "    ## if number of longitude or latitude is less than 100, that many lat-lon pairs will be extracted, if not, a 100 values\n",
    "    if extract_val < 100:\n",
    "        extract_val=extract_val\n",
    "    else:\n",
    "        extract_val=100\n",
    "\n",
    "    longitude=longitude[:extract_val]  ## extract first 100 values or values less than 100\n",
    "    latitude=lat_lon.loc[(var),'y']    ## get the latitude values\n",
    "    latitude=latitude[:extract_val]    ## extract first 100 values or values less than 100\n",
    "\n",
    "    lat_list=latitude.tolist()\n",
    "    lon_list=longitude.tolist()\n",
    "\n",
    "    ## find the corresponding values of the variables in the finer grid\n",
    "\n",
    "    year_avg_finer= ozone.interp(longitude=lon_list, latitude=lat_list)\n",
    "    \n",
    "## get only the 100 (or less) pair of latitude and longitude from the lat and lon list from the 100,000 (or less) rows\n",
    "    get_vals=[]\n",
    "\n",
    "    for i in range(0, extract_val):\n",
    "        row=year_avg_finer.isel(latitude=[i], longitude=[i])\n",
    "        row_df=row.to_dataframe()\n",
    "        get_vals.append(row_df)\n",
    "    \n",
    "    initial_df=pd.concat(get_vals)\n",
    "    summary = initial_df.groupby(\"valid_time\").mean([\"latitude\", \"longitude\"])\n",
    "    df=summary\n",
    "\n",
    "    total_rows=len(df)\n",
    "\n",
    "    c=0\n",
    "    for i in range(0, total_rows):\n",
    "        if df['go3'].values[i] > threshold:\n",
    "            c=c+1\n",
    "\n",
    "## convert number to a fraction\n",
    "    frac_time=(c/total_rows)*100\n",
    "    pm_above_df=pd.DataFrame({'ozone above percentile':[frac_time]})\n",
    "\n",
    "\n",
    "    return pm_above_df"
   ]
  },
  {
   "cell_type": "code",
   "execution_count": null,
   "id": "571a3b11-9cd7-49ab-8609-da2127fbd2ac",
   "metadata": {},
   "outputs": [],
   "source": [
    "len(county_gdf)"
   ]
  },
  {
   "cell_type": "code",
   "execution_count": null,
   "id": "cc7af056-12d5-4172-8aa9-56d3d119eed8",
   "metadata": {},
   "outputs": [],
   "source": [
    "%%time\n",
    "\n",
    "## get the values for all counties\n",
    "\n",
    "df_list_below=[]\n",
    "\n",
    "for i in range(0,len(county_gdf)): ## loop for the all list of counties\n",
    "    try:\n",
    "        df_list_below.append(single_county(i))\n",
    "    except:\n",
    "        pass"
   ]
  },
  {
   "cell_type": "code",
   "execution_count": null,
   "id": "4164a6b1-5d93-4038-a91b-4a0b09d77bab",
   "metadata": {},
   "outputs": [],
   "source": [
    "concatenate_df=pd.concat(df_list_below)\n",
    "final_df=concatenate_df.reset_index(drop=True)\n",
    "final_df"
   ]
  },
  {
   "cell_type": "code",
   "execution_count": null,
   "id": "13a84b62-29a2-4a35-a8f0-c760a0570228",
   "metadata": {},
   "outputs": [],
   "source": [
    "## lets first create a fips column in the original shape file\n",
    "\n",
    "county_gdf['fips']=county_gdf['STATEFP'] + county_gdf['COUNTYFP']\n",
    "county_gdf.dtypes\n",
    "## convert the data type\n",
    "county_gdf['fips']=county_gdf['fips'].astype(str).astype(int)\n",
    "county_gdf.dtypes\n",
    "\n",
    "county_gdf = county_gdf.drop([ 'STATEFP','COUNTYFP','COUNTYNS','CNTYIDFP','NAMELSAD','LSAD','CLASSFP','MTFCC',\n",
    "                                 'CSAFP','CBSAFP','METDIVFP','FUNCSTAT'], axis=1)\n",
    "county_gdf"
   ]
  },
  {
   "cell_type": "code",
   "execution_count": null,
   "id": "a1974163-58fe-4ea1-ba6b-23ec5cd2b0c6",
   "metadata": {},
   "outputs": [],
   "source": [
    "merged_df=pd.merge(county_gdf, final_df, left_index=True, right_index=True)\n",
    "merged_df"
   ]
  },
  {
   "cell_type": "code",
   "execution_count": null,
   "id": "9d468b97-ecdd-4ac4-b0ae-6d1afc246e81",
   "metadata": {},
   "outputs": [],
   "source": [
    "county_df=merged_df.dropna()\n",
    "county_df.head()"
   ]
  },
  {
   "cell_type": "code",
   "execution_count": null,
   "id": "e5224b30-d15e-4f6a-b9c2-b370a5707677",
   "metadata": {},
   "outputs": [],
   "source": [
    "## convert into pandas dataframe without the geometry column\n",
    "pd.options.display.float_format = '{:.15f}'.format ## see 15 decimal places of the numbers\n",
    "county_var=pd.DataFrame(county_df.drop(columns='geometry')) \n",
    "county_var"
   ]
  },
  {
   "cell_type": "code",
   "execution_count": null,
   "id": "6b8f7d33-f079-4ce8-9765-cf8541830cd0",
   "metadata": {},
   "outputs": [],
   "source": [
    "county_var.to_pickle('ozone_above_percentile.pkl')"
   ]
  },
  {
   "cell_type": "code",
   "execution_count": null,
   "id": "d908bad2-f08c-4ef9-a3fc-91ed3a553cab",
   "metadata": {},
   "outputs": [],
   "source": []
  }
 ],
 "metadata": {
  "kernelspec": {
   "display_name": "Python 3 (ipykernel)",
   "language": "python",
   "name": "python3"
  },
  "language_info": {
   "codemirror_mode": {
    "name": "ipython",
    "version": 3
   },
   "file_extension": ".py",
   "mimetype": "text/x-python",
   "name": "python",
   "nbconvert_exporter": "python",
   "pygments_lexer": "ipython3",
   "version": "3.10.15"
  }
 },
 "nbformat": 4,
 "nbformat_minor": 5
}
