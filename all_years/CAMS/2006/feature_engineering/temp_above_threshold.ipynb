{
 "cells": [
  {
   "cell_type": "markdown",
   "id": "290ea891-7505-42f3-be29-7310698a382d",
   "metadata": {},
   "source": [
    "#### Notebook to feature engineer fraction of time temperature was above 90F"
   ]
  },
  {
   "cell_type": "code",
   "execution_count": null,
   "id": "bbb5e8ed-d8c6-4707-bcf6-afde0f79fe67",
   "metadata": {},
   "outputs": [],
   "source": [
    "## conda environment Weather_Prediction\n",
    "\n",
    "import os\n",
    "import numpy as np\n",
    "import pandas as pd\n",
    "import geopandas as gpd\n",
    "import xarray as xr\n",
    "pd.set_option('display.max_columns', None)\n",
    "pd.set_option('display.precision', 15)"
   ]
  },
  {
   "cell_type": "code",
   "execution_count": null,
   "id": "1e0e95c7-4d45-4849-b667-3c0f12ddf5dc",
   "metadata": {},
   "outputs": [],
   "source": [
    "PATH_1=os.path.join('..','..','..','..','Weather_Data','CAMS','2006','2006_multi_level_26_variables.nc')\n",
    "ml_26_variables = xr.open_dataset(PATH_1) ## multilevel 26 variables\n",
    "ml_26_variables = ml_26_variables.squeeze(dim=\"model_level\") ## remove the model_level dimension\n",
    "ml_26_variables=ml_26_variables.drop_vars('model_level') ## the dropped dimension becomes a column, so remove that\n",
    "ml_26_variables['longitude'] = ml_26_variables['longitude']-360 ## necessary because of longitude data in multi-level case\n",
    "temp=ml_26_variables['t'] ## get only the temperature variable\n",
    "temp"
   ]
  },
  {
   "cell_type": "code",
   "execution_count": null,
   "id": "e4bb979b-a082-44cb-91cd-2876102a9a0d",
   "metadata": {},
   "outputs": [],
   "source": [
    "temp.to_dataframe()"
   ]
  },
  {
   "cell_type": "code",
   "execution_count": null,
   "id": "124cd467-38e1-458d-9fa0-c672141f48d8",
   "metadata": {},
   "outputs": [],
   "source": [
    "PATH_2=os.path.join('..','CAMS_79_variables_2006.pkl')\n",
    "get_data = pd.read_pickle(PATH_2) ## load the data with all variables\n",
    "get_data.head()"
   ]
  },
  {
   "cell_type": "code",
   "execution_count": null,
   "id": "7f16effd-a059-4712-98a3-aae3f617fe04",
   "metadata": {},
   "outputs": [],
   "source": [
    "threshold= 305.372 ## set threshold 90 F"
   ]
  },
  {
   "cell_type": "code",
   "execution_count": null,
   "id": "77ba6ce4-af21-42df-95ba-bd9bb6b6fe8b",
   "metadata": {},
   "outputs": [],
   "source": [
    "## use county shapefile from 2008 as the shapefile before 2008 could not be found\n",
    "SHAPE_PATH=os.path.join('..','..','..','..','Shapefiles','county_shapefiles','2008_county_shapefile','tl_2008_us_county.shp')\n",
    "county_gdf = gpd.read_file(SHAPE_PATH)\n",
    "county_gdf"
   ]
  },
  {
   "cell_type": "code",
   "execution_count": null,
   "id": "734097b6-897f-418e-9daa-4fab6703e60d",
   "metadata": {},
   "outputs": [],
   "source": [
    "geometry_column=county_gdf['geometry']\n",
    "lat_lon=geometry_column.get_coordinates(index_parts=True)\n",
    "lat_lon"
   ]
  },
  {
   "cell_type": "code",
   "execution_count": null,
   "id": "e06a6d0b-2ebf-4f53-b6ba-dbcb47d43bc6",
   "metadata": {},
   "outputs": [],
   "source": [
    "def single_county(var):\n",
    "    \n",
    "    ''' Function to interpolate the values in a single county by taking a 100 or less latitude and longitude pair.\n",
    "        And then to find the fraction of time, PM2.5 was above EPA standard\n",
    "        Args:\n",
    "        --------\n",
    "             var (int): The index of the county in the shapefile.\n",
    "\n",
    "        Returns:\n",
    "        --------\n",
    "            pm_above_df: Dataframe consisting the values of the variables interpolated in the county.\n",
    "    '''   \n",
    "    \n",
    "    \n",
    "    longitude= lat_lon.loc[(var), 'x']  # get the longitude\n",
    "    extract_val=len(longitude) ## find number of longitude that a shapfile has\n",
    "\n",
    "    ## if number of longitude or latitude is less than 100, that many lat-lon pairs will be extracted, if not, a 100 values\n",
    "    if extract_val < 100:\n",
    "        extract_val=extract_val\n",
    "    else:\n",
    "        extract_val=100\n",
    "\n",
    "    longitude=longitude[:extract_val]  ## extract first 100 values or values less than 100\n",
    "    latitude=lat_lon.loc[(var),'y']    ## get the latitude values\n",
    "    latitude=latitude[:extract_val]    ## extract first 100 values or values less than 100\n",
    "\n",
    "    lat_list=latitude.tolist()\n",
    "    lon_list=longitude.tolist()\n",
    "\n",
    "    ## find the corresponding values of the variables in the finer grid\n",
    "\n",
    "    year_avg_finer= temp.interp(longitude=lon_list, latitude=lat_list)\n",
    "    \n",
    "## get only the 100 (or less) pair of latitude and longitude from the lat and lon list from the 100,000 (or less) rows\n",
    "    get_vals=[]\n",
    "\n",
    "    for i in range(0, extract_val):\n",
    "        row=year_avg_finer.isel(latitude=[i], longitude=[i])\n",
    "        row_df=row.to_dataframe()\n",
    "        get_vals.append(row_df)\n",
    "    \n",
    "    initial_df=pd.concat(get_vals)\n",
    "    summary = initial_df.groupby(\"valid_time\").mean([\"latitude\", \"longitude\"])\n",
    "    df=summary\n",
    "\n",
    "    total_rows=len(df)\n",
    "\n",
    "    c=0\n",
    "    for i in range(0, total_rows):\n",
    "        if df['t'].values[i] > threshold:\n",
    "            c=c+1\n",
    "\n",
    "## convert number to a fraction\n",
    "    frac_time=(c/total_rows)*100\n",
    "    pm_above_df=pd.DataFrame({'Temp above threshold':[frac_time]})\n",
    "\n",
    "\n",
    "    return pm_above_df"
   ]
  },
  {
   "cell_type": "code",
   "execution_count": null,
   "id": "c09c338d-7991-4fcc-8888-e3023bcfd3eb",
   "metadata": {},
   "outputs": [],
   "source": [
    "len(county_gdf)"
   ]
  },
  {
   "cell_type": "code",
   "execution_count": null,
   "id": "fd6a9377-dfba-44f4-a8ab-a8bf0d1b23ac",
   "metadata": {},
   "outputs": [],
   "source": [
    "%%time\n",
    "\n",
    "## get the values for all counties\n",
    "\n",
    "df_list_below=[]\n",
    "\n",
    "for i in range(0,len(county_gdf)): ## loop for the all list of counties\n",
    "    try:\n",
    "        df_list_below.append(single_county(i))\n",
    "    except:\n",
    "        pass"
   ]
  },
  {
   "cell_type": "code",
   "execution_count": null,
   "id": "bf2ba845-1ed1-49f3-9ff9-527966e16bce",
   "metadata": {},
   "outputs": [],
   "source": [
    "concatenate_df=pd.concat(df_list_below)\n",
    "final_df=concatenate_df.reset_index(drop=True)\n",
    "final_df"
   ]
  },
  {
   "cell_type": "code",
   "execution_count": null,
   "id": "ca4a76d1-13a1-474f-8b3d-954ee914e926",
   "metadata": {},
   "outputs": [],
   "source": [
    "## lets first create a fips column in the original shape file\n",
    "\n",
    "county_gdf['fips']=county_gdf['STATEFP'] + county_gdf['COUNTYFP']\n",
    "county_gdf.dtypes\n",
    "## convert the data type\n",
    "county_gdf['fips']=county_gdf['fips'].astype(str).astype(int)\n",
    "county_gdf.dtypes\n",
    "\n",
    "county_gdf = county_gdf.drop([ 'STATEFP','COUNTYFP','COUNTYNS','CNTYIDFP','NAMELSAD','LSAD','CLASSFP','MTFCC',\n",
    "                                 'CSAFP','CBSAFP','METDIVFP','FUNCSTAT'], axis=1)\n",
    "county_gdf"
   ]
  },
  {
   "cell_type": "code",
   "execution_count": null,
   "id": "a916d80b-c626-43ce-9f4e-94963652e5f7",
   "metadata": {},
   "outputs": [],
   "source": [
    "merged_df=pd.merge(county_gdf, final_df, left_index=True, right_index=True)\n",
    "merged_df"
   ]
  },
  {
   "cell_type": "code",
   "execution_count": null,
   "id": "836351ce-8ef6-4a72-8efa-b13b57e0a407",
   "metadata": {},
   "outputs": [],
   "source": [
    "county_df=merged_df.dropna()\n",
    "county_df.head()"
   ]
  },
  {
   "cell_type": "code",
   "execution_count": null,
   "id": "55320bf2-4eb3-4544-8848-966c33a72186",
   "metadata": {},
   "outputs": [],
   "source": [
    "## convert into pandas dataframe without the geometry column\n",
    "pd.options.display.float_format = '{:.15f}'.format ## see 15 decimal places of the numbers\n",
    "county_var=pd.DataFrame(county_df.drop(columns='geometry')) \n",
    "county_var"
   ]
  },
  {
   "cell_type": "code",
   "execution_count": null,
   "id": "2ab2c9d6-b1f6-49e9-a3fc-569678065b36",
   "metadata": {},
   "outputs": [],
   "source": [
    "county_var.to_pickle('temp_above_threshold.pkl')"
   ]
  },
  {
   "cell_type": "code",
   "execution_count": null,
   "id": "c78a2694-1141-49e0-91ad-87179e437694",
   "metadata": {},
   "outputs": [],
   "source": []
  }
 ],
 "metadata": {
  "kernelspec": {
   "display_name": "Python 3 (ipykernel)",
   "language": "python",
   "name": "python3"
  },
  "language_info": {
   "codemirror_mode": {
    "name": "ipython",
    "version": 3
   },
   "file_extension": ".py",
   "mimetype": "text/x-python",
   "name": "python",
   "nbconvert_exporter": "python",
   "pygments_lexer": "ipython3",
   "version": "3.10.15"
  }
 },
 "nbformat": 4,
 "nbformat_minor": 5
}
