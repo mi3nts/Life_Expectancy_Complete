{
 "cells": [
  {
   "cell_type": "markdown",
   "id": "e2149e52-fff3-4db1-9e46-de4c4aef1156",
   "metadata": {},
   "source": [
    "#### Notebook to feature engineer fraction of time temperature was above 90F"
   ]
  },
  {
   "cell_type": "code",
   "execution_count": null,
   "id": "341bf90e-5b88-4c47-90b9-db28dbfd6b72",
   "metadata": {},
   "outputs": [],
   "source": [
    "## conda environment Weather_Prediction\n",
    "\n",
    "import os\n",
    "import numpy as np\n",
    "import pandas as pd\n",
    "import geopandas as gpd\n",
    "import xarray as xr\n",
    "pd.set_option('display.max_columns', None)\n",
    "pd.set_option('display.precision', 15)"
   ]
  },
  {
   "cell_type": "code",
   "execution_count": null,
   "id": "f12b1f06-c8ee-44ef-a546-7925651b7dfe",
   "metadata": {},
   "outputs": [],
   "source": [
    "PATH_1=os.path.join('..','..','..','..','Weather_Data','CAMS','2003','2003_multi_level_26_variables.nc')\n",
    "ml_26_variables = xr.open_dataset(PATH_1) ## multilevel 26 variables\n",
    "ml_26_variables = ml_26_variables.squeeze(dim=\"model_level\") ## remove the model_level dimension\n",
    "ml_26_variables=ml_26_variables.drop_vars('model_level') ## the dropped dimension becomes a column, so remove that\n",
    "ml_26_variables['longitude'] = ml_26_variables['longitude']-360 ## necessary because of longitude data in multi-level case\n",
    "temp=ml_26_variables['t'] ## get only the temperature variable\n",
    "temp"
   ]
  },
  {
   "cell_type": "code",
   "execution_count": null,
   "id": "54681a54-d30a-4f87-a924-a006d0de2f23",
   "metadata": {},
   "outputs": [],
   "source": [
    "temp.to_dataframe()"
   ]
  },
  {
   "cell_type": "code",
   "execution_count": null,
   "id": "85326980-5e26-4c77-8bba-76140252940f",
   "metadata": {},
   "outputs": [],
   "source": [
    "PATH_2=os.path.join('..','CAMS_79_variables_2003.pkl')\n",
    "get_data = pd.read_pickle(PATH_2) ## load the data with all variables\n",
    "get_data.head()"
   ]
  },
  {
   "cell_type": "code",
   "execution_count": null,
   "id": "2a78221c-1d59-4cd4-9c60-43499f75fb48",
   "metadata": {},
   "outputs": [],
   "source": [
    "threshold= 273.15 ## set threshold 90 F"
   ]
  },
  {
   "cell_type": "code",
   "execution_count": null,
   "id": "ebdafca2-b584-4488-b957-c1be4a04ca95",
   "metadata": {},
   "outputs": [],
   "source": [
    "## use county shapefile from 2008 as the shapefile before 2008 could not be found\n",
    "SHAPE_PATH=os.path.join('..','..','..','..','Shapefiles','county_shapefiles','2008_county_shapefile','tl_2008_us_county.shp')\n",
    "county_gdf = gpd.read_file(SHAPE_PATH)\n",
    "county_gdf"
   ]
  },
  {
   "cell_type": "code",
   "execution_count": null,
   "id": "b35366b9-cb0c-4d91-a598-1ff9cb56aa8b",
   "metadata": {},
   "outputs": [],
   "source": [
    "geometry_column=county_gdf['geometry']\n",
    "lat_lon=geometry_column.get_coordinates(index_parts=True)\n",
    "lat_lon"
   ]
  },
  {
   "cell_type": "code",
   "execution_count": null,
   "id": "19479d91-27d0-4422-985d-123a94406cc6",
   "metadata": {},
   "outputs": [],
   "source": [
    "def single_county(var):\n",
    "    \n",
    "    ''' Function to interpolate the values in a single county by taking a 100 or less latitude and longitude pair.\n",
    "        And then to find the fraction of time, PM2.5 was above EPA standard\n",
    "        Args:\n",
    "        --------\n",
    "             var (int): The index of the county in the shapefile.\n",
    "\n",
    "        Returns:\n",
    "        --------\n",
    "            pm_above_df: Dataframe consisting the values of the variables interpolated in the county.\n",
    "    '''   \n",
    "    \n",
    "    \n",
    "    longitude= lat_lon.loc[(var), 'x']  # get the longitude\n",
    "    extract_val=len(longitude) ## find number of longitude that a shapfile has\n",
    "\n",
    "    ## if number of longitude or latitude is less than 100, that many lat-lon pairs will be extracted, if not, a 100 values\n",
    "    if extract_val < 100:\n",
    "        extract_val=extract_val\n",
    "    else:\n",
    "        extract_val=100\n",
    "\n",
    "    longitude=longitude[:extract_val]  ## extract first 100 values or values less than 100\n",
    "    latitude=lat_lon.loc[(var),'y']    ## get the latitude values\n",
    "    latitude=latitude[:extract_val]    ## extract first 100 values or values less than 100\n",
    "\n",
    "    lat_list=latitude.tolist()\n",
    "    lon_list=longitude.tolist()\n",
    "\n",
    "    ## find the corresponding values of the variables in the finer grid\n",
    "\n",
    "    year_avg_finer= temp.interp(longitude=lon_list, latitude=lat_list)\n",
    "    \n",
    "## get only the 100 (or less) pair of latitude and longitude from the lat and lon list from the 100,000 (or less) rows\n",
    "    get_vals=[]\n",
    "\n",
    "    for i in range(0, extract_val):\n",
    "        row=year_avg_finer.isel(latitude=[i], longitude=[i])\n",
    "        row_df=row.to_dataframe()\n",
    "        get_vals.append(row_df)\n",
    "    \n",
    "    initial_df=pd.concat(get_vals)\n",
    "    summary = initial_df.groupby(\"valid_time\").mean([\"latitude\", \"longitude\"])\n",
    "    df=summary\n",
    "\n",
    "    total_rows=len(df)\n",
    "\n",
    "    c=0\n",
    "    for i in range(0, total_rows):\n",
    "        if df['t'].values[i] > threshold:\n",
    "            c=c+1\n",
    "\n",
    "## convert number to a fraction\n",
    "    frac_time=(c/total_rows)*100\n",
    "    pm_above_df=pd.DataFrame({'Temp above threshold':[frac_time]})\n",
    "\n",
    "\n",
    "    return pm_above_df"
   ]
  },
  {
   "cell_type": "code",
   "execution_count": null,
   "id": "c68f6638-436e-489e-96c5-a4583aab22bb",
   "metadata": {},
   "outputs": [],
   "source": [
    "len(county_gdf)"
   ]
  },
  {
   "cell_type": "code",
   "execution_count": null,
   "id": "1016403a-64d5-4970-9e39-956ce3daebb1",
   "metadata": {},
   "outputs": [],
   "source": [
    "%%time\n",
    "\n",
    "## get the values for all counties\n",
    "\n",
    "df_list_below=[]\n",
    "\n",
    "for i in range(0,len(county_gdf)): ## loop for the all list of counties\n",
    "    try:\n",
    "        df_list_below.append(single_county(i))\n",
    "    except:\n",
    "        pass"
   ]
  },
  {
   "cell_type": "code",
   "execution_count": null,
   "id": "999ce496-22b9-4b14-8740-a9f3917fd8cf",
   "metadata": {},
   "outputs": [],
   "source": [
    "concatenate_df=pd.concat(df_list_below)\n",
    "final_df=concatenate_df.reset_index(drop=True)\n",
    "final_df"
   ]
  },
  {
   "cell_type": "code",
   "execution_count": null,
   "id": "86dd3eaa-3f02-4eca-a9e0-3c2eaa3299ad",
   "metadata": {},
   "outputs": [],
   "source": [
    "## lets first create a fips column in the original shape file\n",
    "\n",
    "county_gdf['fips']=county_gdf['STATEFP'] + county_gdf['COUNTYFP']\n",
    "county_gdf.dtypes\n",
    "## convert the data type\n",
    "county_gdf['fips']=county_gdf['fips'].astype(str).astype(int)\n",
    "county_gdf.dtypes\n",
    "\n",
    "county_gdf = county_gdf.drop([ 'STATEFP','COUNTYFP','COUNTYNS','CNTYIDFP','NAMELSAD','LSAD','CLASSFP','MTFCC',\n",
    "                                 'CSAFP','CBSAFP','METDIVFP','FUNCSTAT'], axis=1)\n",
    "county_gdf"
   ]
  },
  {
   "cell_type": "code",
   "execution_count": null,
   "id": "188fabb8-1989-4251-be64-62c0caa4ed40",
   "metadata": {},
   "outputs": [],
   "source": [
    "merged_df=pd.merge(county_gdf, final_df, left_index=True, right_index=True)\n",
    "merged_df"
   ]
  },
  {
   "cell_type": "code",
   "execution_count": null,
   "id": "aaec8ba7-a001-4a5c-8931-64330a2eead8",
   "metadata": {},
   "outputs": [],
   "source": [
    "county_df=merged_df.dropna()\n",
    "county_df.head()"
   ]
  },
  {
   "cell_type": "code",
   "execution_count": null,
   "id": "a5cd32d5-27e6-4595-a49c-a974d28ebe90",
   "metadata": {},
   "outputs": [],
   "source": [
    "## convert into pandas dataframe without the geometry column\n",
    "pd.options.display.float_format = '{:.15f}'.format ## see 15 decimal places of the numbers\n",
    "county_var=pd.DataFrame(county_df.drop(columns='geometry')) \n",
    "county_var"
   ]
  },
  {
   "cell_type": "code",
   "execution_count": null,
   "id": "511aa7f4-da4b-442a-8957-361453817edd",
   "metadata": {},
   "outputs": [],
   "source": [
    "county_var.to_pickle('temp_above_threshold.pkl')"
   ]
  },
  {
   "cell_type": "code",
   "execution_count": null,
   "id": "074d3e39-bf94-4feb-85ee-2e512cd14c7d",
   "metadata": {},
   "outputs": [],
   "source": []
  }
 ],
 "metadata": {
  "kernelspec": {
   "display_name": "Python 3 (ipykernel)",
   "language": "python",
   "name": "python3"
  },
  "language_info": {
   "codemirror_mode": {
    "name": "ipython",
    "version": 3
   },
   "file_extension": ".py",
   "mimetype": "text/x-python",
   "name": "python",
   "nbconvert_exporter": "python",
   "pygments_lexer": "ipython3",
   "version": "3.10.15"
  }
 },
 "nbformat": 4,
 "nbformat_minor": 5
}
