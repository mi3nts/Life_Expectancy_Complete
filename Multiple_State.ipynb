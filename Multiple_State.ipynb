{
 "cells": [
  {
   "cell_type": "code",
   "execution_count": null,
   "id": "5c2f020f-d359-4670-aa96-82ddaae8d1d8",
   "metadata": {},
   "outputs": [],
   "source": [
    "## conda env Weather_Prediction\n",
    "\n",
    "import os\n",
    "import numpy as np\n",
    "import pandas as pd\n",
    "import matplotlib.pyplot as plt\n",
    "import cartopy.crs as ccrs\n",
    "import cartopy.feature as cfeature\n",
    "import geopandas as gpd\n",
    "import xarray as xr\n",
    "import rioxarray ## what we need from rioxarray can be done using rio acessor\n",
    "import regionmask"
   ]
  },
  {
   "cell_type": "code",
   "execution_count": null,
   "id": "6b83f005-2df7-4e33-b70c-001d8668d9c8",
   "metadata": {},
   "outputs": [],
   "source": [
    "## lets load the data\n",
    "\n",
    "data = xr.open_dataset(\"data_sfc.nc\")\n",
    "data"
   ]
  },
  {
   "cell_type": "markdown",
   "id": "3493afe7-f847-46d5-ab73-ab86ef55334d",
   "metadata": {},
   "source": [
    "##  Lets begin by visualizing the data"
   ]
  },
  {
   "cell_type": "code",
   "execution_count": null,
   "id": "85b4ce7e-68e0-4492-9795-96d60a6dc967",
   "metadata": {},
   "outputs": [],
   "source": [
    "## the data is multi-dimensional. the plot will be for an instant of time in a grid\n",
    "# Slice the data by time and just the single variable for plotting purposes\n",
    "\n",
    "instant = \"2010-01-01T00:00:00.000000000\"\n",
    "\n",
    "instant_data = data[\"t2m\"].sel(valid_time=slice(instant))\n",
    "instant_data"
   ]
  },
  {
   "cell_type": "code",
   "execution_count": null,
   "id": "a4352a6f-a0a4-4d09-85b1-18a0d08e6485",
   "metadata": {},
   "outputs": [],
   "source": [
    "crs=instant_data.rio.crs ## the rio accessor\n",
    "print(crs)  ## note that there no associated crs with the data"
   ]
  },
  {
   "cell_type": "code",
   "execution_count": null,
   "id": "9cea3dbd-54f6-42a9-83f8-aa9dc0c5ac00",
   "metadata": {},
   "outputs": [],
   "source": [
    "## an average plot\n",
    "\n",
    "instant_data.plot() "
   ]
  },
  {
   "cell_type": "code",
   "execution_count": null,
   "id": "ef85ea2f-dc1e-4486-8a8b-e650bf677752",
   "metadata": {},
   "outputs": [],
   "source": [
    "## improve the plot quality\n",
    "\n",
    "fig = plt.figure(figsize=(12, 8))\n",
    "\n",
    "p=instant_data.plot(subplot_kws=dict(projection=ccrs.Mercator()),  ## projection of the plot\n",
    "                                      transform=ccrs.PlateCarree(),  ## projection of the data\n",
    "                                       cbar_kwargs={\"label\": \"2m Temperature (Kelvin)\",'shrink':0.65})\n",
    "\n",
    "p.axes.coastlines()\n",
    "plt.title('2m Temperature on Jan 1 at 2010 00:00')\n"
   ]
  },
  {
   "cell_type": "markdown",
   "id": "f6bc8a08-4391-49bd-810e-4c96f409eba4",
   "metadata": {},
   "source": [
    "#### Note the fact that, in the figure below,  despite the fact that the data was downloaded over a rectangle, when it is projected in the AlbersEqualArea projection, the raster gets curved"
   ]
  },
  {
   "cell_type": "code",
   "execution_count": null,
   "id": "76037861-da9b-40ad-b8a7-c7f60add8e07",
   "metadata": {},
   "outputs": [],
   "source": [
    "## Plot it in AlbersEqualArea projection\n",
    "\n",
    "extent=[-125, -66.5, 48.75,24 ] ## the extent of CONUS data that is also shown in the dataset named \"data\"\n",
    "\n",
    "central_lon = np.mean(extent[:2])\n",
    "central_lat = np.mean(extent[2:])\n",
    "\n",
    "fig = plt.figure(figsize=(12, 8))\n",
    "\n",
    "p=instant_data.plot(subplot_kws=dict({'projection':ccrs.LambertAzimuthalEqualArea(central_lon, central_lat)}),\n",
    "                                        transform=ccrs.PlateCarree(), \n",
    "                                          cbar_kwargs={\"label\": \"2m Temperature (Kelvin)\",'shrink':0.65} )\n",
    "\n",
    "p.axes.coastlines()\n",
    "plt.title('2m Temperature on Jan 1 2010 at 00:00')"
   ]
  },
  {
   "cell_type": "markdown",
   "id": "dbf9bff8-044d-4dad-9c18-04f566b810c1",
   "metadata": {},
   "source": [
    "#### Include state in the raster plot"
   ]
  },
  {
   "cell_type": "code",
   "execution_count": null,
   "id": "05ef3c86-d64b-491c-9f3b-6225b1829b99",
   "metadata": {},
   "outputs": [],
   "source": [
    "## Lets load the shapefile\n",
    "\n",
    "SHAPE_PATH = os.path.join(\"State_shapefile\",'cb_2018_us_state_500k.shp')\n",
    "state_shape = gpd.read_file(SHAPE_PATH)\n",
    "state_shape.head()\n"
   ]
  },
  {
   "cell_type": "code",
   "execution_count": null,
   "id": "60d012a5-7a65-4c56-a839-a20828977c4d",
   "metadata": {},
   "outputs": [],
   "source": [
    "print('The CRS of the SHAPE file is:', state_shape.crs)\n",
    "state_shapes=state_shape.drop([13,27, 36, 37, 38,42, 44, 45 ]) ## get rid of alaska and other territories"
   ]
  },
  {
   "cell_type": "markdown",
   "id": "5b2adabc-c31e-4b41-af91-cdfb136003a0",
   "metadata": {},
   "source": [
    "#### Perhaps the CRS of the xarray dataset is not defined that is why combining the xarray dataset with shapefile in a different projection is not possible, for example: LambertAzimuthalEqualArea. That is the only reason I could think of. Perhaps, that is why only the default (Platecarree) projection works which has been plotted below.  "
   ]
  },
  {
   "cell_type": "code",
   "execution_count": null,
   "id": "640b0952-be0e-4cac-85ae-82241f427d97",
   "metadata": {},
   "outputs": [],
   "source": [
    "fig = plt.figure(figsize=(12, 8))\n",
    "\n",
    "# create the map using the cartopy\n",
    "\n",
    "ax = plt.subplot(1,1,1)\n",
    "instant_data.plot(cbar_kwargs={\"label\": \"2m Temperature (Kelvin)\",'shrink':0.60})\n",
    "state_shapes.plot(facecolor='none', edgecolor='black', ax=ax, linewidth=0.3)\n",
    "ax.set_axis_off()\n",
    "ax.set_title(\"'2m Temperature on Jan 1 2010 at 00:00'\")\n",
    "\n"
   ]
  },
  {
   "cell_type": "code",
   "execution_count": null,
   "id": "33df0a28-3de4-4520-b522-c9102d6f1c4e",
   "metadata": {},
   "outputs": [],
   "source": [
    "\n"
   ]
  },
  {
   "cell_type": "code",
   "execution_count": null,
   "id": "24a0a9bc-5748-4dff-ab1f-18a74a19c5d9",
   "metadata": {},
   "outputs": [],
   "source": []
  },
  {
   "cell_type": "code",
   "execution_count": null,
   "id": "2f7ed438-7c7d-438c-8913-dbcc64e05a54",
   "metadata": {},
   "outputs": [],
   "source": []
  },
  {
   "cell_type": "code",
   "execution_count": null,
   "id": "9e7330b2-0b2a-403a-bf97-7bc509fd280a",
   "metadata": {},
   "outputs": [],
   "source": []
  },
  {
   "cell_type": "code",
   "execution_count": null,
   "id": "a686480b-30e5-4d21-9d08-c15203d2f440",
   "metadata": {},
   "outputs": [],
   "source": []
  },
  {
   "cell_type": "code",
   "execution_count": null,
   "id": "cc019c10-ffe1-436e-99b5-96c03585637b",
   "metadata": {},
   "outputs": [],
   "source": []
  },
  {
   "cell_type": "code",
   "execution_count": null,
   "id": "1eeeaec0-0003-47fb-a9a1-76afd5ba86bd",
   "metadata": {},
   "outputs": [],
   "source": []
  }
 ],
 "metadata": {
  "kernelspec": {
   "display_name": "Python 3 (ipykernel)",
   "language": "python",
   "name": "python3"
  },
  "language_info": {
   "codemirror_mode": {
    "name": "ipython",
    "version": 3
   },
   "file_extension": ".py",
   "mimetype": "text/x-python",
   "name": "python",
   "nbconvert_exporter": "python",
   "pygments_lexer": "ipython3",
   "version": "3.10.15"
  }
 },
 "nbformat": 4,
 "nbformat_minor": 5
}
